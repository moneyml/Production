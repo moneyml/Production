{
 "cells": [
  {
   "cell_type": "code",
   "execution_count": 2,
   "metadata": {},
   "outputs": [
    {
     "name": "stdout",
     "output_type": "stream",
     "text": [
      "Load data...\n",
      "Done.\n",
      "False\n"
     ]
    }
   ],
   "source": [
    "import sys\n",
    "import pickle\n",
    "import numpy as np\n",
    "import pandas as pd\n",
    "#from nlp_utils import clean_text, pos_tag_text\n",
    "sys.path.append(\"../\")\n",
    "from param_config import config\n",
    "from sklearn.model_selection import KFold\n",
    "from sklearn.ensemble import RandomForestRegressor\n",
    "from sklearn import metrics\n",
    "import xgboost as xgb\n",
    "import datetime\n",
    "from sklearn.linear_model import LassoLars\n",
    "\n",
    "pd.set_option('display.float_format',lambda x: '%.5f'%x)\n",
    "\n",
    "print(\"Load data...\")\n",
    "\n",
    "dfTrain = pd.read_csv(config.original_train_data_path)\n",
    "\n",
    "dfPred= pd.read_csv(config.original_test_data_path)\n",
    "#dfPred2= pd.read_csv(config.original_test_data2_path)\n",
    "# number of train/test samples\n",
    "num_train, num_pred = dfTrain.shape[0], dfPred.shape[0]\n",
    "\n",
    "print(\"Done.\")\n",
    "\n",
    "f = open('../../Data/col_name.txt','r')  \n",
    "a = f.read()  \n",
    "col_name = eval(a)  \n",
    "f.close() \n",
    "\n",
    "f = open('../../Data/Procedure.txt','r')  \n",
    "a = f.read()  \n",
    "procedure = eval(a)  \n",
    "f.close()\n",
    "\n",
    "f = open('../../Cache/var_change.txt','r')\n",
    "a = f.read()\n",
    "var_change = eval(a)\n",
    "f.close()\n",
    "\n",
    "dfTrain = dfTrain.rename(columns=col_name)\n",
    "raw_predictors = dfTrain.columns.tolist()[1:-1]\n",
    "dfTrain = dfTrain.set_index(dfTrain['ID'])\n",
    "dfPred = dfPred.rename(columns=col_name)\n",
    "dfPred = dfPred.set_index(dfPred['ID'])\n",
    "print('Y' in raw_predictors)"
   ]
  },
  {
   "cell_type": "code",
   "execution_count": 3,
   "metadata": {
    "collapsed": true
   },
   "outputs": [],
   "source": [
    "Feat_file = ['Feat_cnt_col_non_missing','Feat_cnt_tool_non_missing','Feat_pcent_col_non_missing','Feat_pcent_tool_non_missing','Feat_minus_non_missing']\n",
    "ex_feat = []\n",
    "for filename in Feat_file:\n",
    "    if filename == 'Feat_minus_non_missing':\n",
    "        tmp = pd.read_csv('../../../'+filename+'.csv')\n",
    "    else:\n",
    "        tmp = pd.read_csv('../../Cache/'+filename+'.csv')\n",
    "    tmp.set_index(tmp['ID'],inplace=True,drop=True)\n",
    "    tmp_feat_list = tmp.columns.tolist()\n",
    "    if 'ID' in tmp_feat_list:\n",
    "        tmp_feat_list.remove('ID')\n",
    "    ex_feat += tmp_feat_list\n",
    "    dfTrain = pd.merge(dfTrain,tmp,'left','ID')\n",
    "    dfPred = pd.merge(dfPred,tmp,'left','ID')\n",
    "    \n",
    "predictors = raw_predictors+ex_feat"
   ]
  },
  {
   "cell_type": "code",
   "execution_count": 4,
   "metadata": {},
   "outputs": [
    {
     "name": "stdout",
     "output_type": "stream",
     "text": [
      "TOOL_310_E\n",
      "TOOL_340_2409.0\n",
      "TOOL_344_T\n",
      "TOOL_360_C\n"
     ]
    }
   ],
   "source": [
    "#define the input variables, dummies\n",
    "predictors = raw_predictors+ex_feat\n",
    "feat_cnt = 0\n",
    "for key,value in var_change.items():\n",
    "    feat_cnt+=1\n",
    "    if feat_cnt>1:\n",
    "        continue\n",
    "    for var in var_change[key]['constant']:\n",
    "        try:\n",
    "            predictors.remove(var)\n",
    "        except:\n",
    "            continue\n",
    "    for var in var_change[key]['category']:\n",
    "        if not 'TOOL' in var:\n",
    "            continue\n",
    "        try:\n",
    "            predictors.remove(var)\n",
    "        except:\n",
    "            continue\n",
    "        tmpTrain = pd.get_dummies(dfTrain[var],prefix=var,dummy_na=True)\n",
    "        tmpPred = pd.get_dummies(dfPred[var],prefix=var,dummy_na=True)\n",
    "        predictors = predictors + tmpTrain.columns.tolist()\n",
    "        dfTrain = pd.concat([dfTrain,tmpTrain],axis=1)\n",
    "        dfPred = pd.concat([dfPred,tmpPred],axis=1)\n",
    "for var in predictors:\n",
    "    if var not in dfPred.columns:\n",
    "        print(var)\n",
    "        dfPred[var] = 0"
   ]
  },
  {
   "cell_type": "code",
   "execution_count": 5,
   "metadata": {},
   "outputs": [
    {
     "name": "stdout",
     "output_type": "stream",
     "text": [
      "(500, 30458)\n",
      "(100, 30458)\n",
      "30458\n"
     ]
    }
   ],
   "source": [
    "print(dfTrain[predictors].shape)\n",
    "print(dfPred[predictors].shape)\n",
    "print(len(predictors))"
   ]
  },
  {
   "cell_type": "code",
   "execution_count": 14,
   "metadata": {},
   "outputs": [
    {
     "name": "stdout",
     "output_type": "stream",
     "text": [
      "[ 0.  0.  0. ...,  0.  0.  0.]\n"
     ]
    }
   ],
   "source": [
    "##feature selection by lasso/lars\n",
    "reg = LassoLars(alpha=0.01,copy_X=True, eps=..., fit_intercept=True,\n",
    "     fit_path=True, max_iter=5000, normalize=True, positive=False,\n",
    "     precompute='auto', verbose=False)\n",
    "reg.fit( dfTrain[predictors], dfTrain['Y'])\n",
    "print(reg.coef_)"
   ]
  },
  {
   "cell_type": "code",
   "execution_count": null,
   "metadata": {
    "collapsed": true
   },
   "outputs": [],
   "source": []
  },
  {
   "cell_type": "code",
   "execution_count": 42,
   "metadata": {},
   "outputs": [
    {
     "name": "stdout",
     "output_type": "stream",
     "text": [
      "2000\n"
     ]
    }
   ],
   "source": [
    "##feature selection by RF\n",
    "from sklearn.ensemble import RandomForestRegressor  \n",
    "import numpy as np  \n",
    "\n",
    "'''rf = RandomForestRegressor(n_estimators=5000, max_features='sqrt',  max_depth=4, random_state=615)  \n",
    "rf.fit(dfTrain[predictors], dfTrain['Y'])  \n",
    "\n",
    "rf_imp_df = pd.DataFrame({'var':predictors,'imp':rf.feature_importances_})\n",
    "rf_imp_df.sort_values('imp',ascending=False,inplace =True)\n",
    "'''\n",
    "feat_num = 2000\n",
    "creteria = rf_imp_df.iloc[feat_num-1,0]\n",
    "predictors_rf = rf_imp_df.loc[rf_imp_df['imp']>=creteria,'var'].values.tolist()\n",
    "print(len(predictors_rf))"
   ]
  },
  {
   "cell_type": "code",
   "execution_count": 43,
   "metadata": {},
   "outputs": [],
   "source": [
    "##feature selection by pearson correlation\n",
    "'''corr = dfTrain[predictors+['Y']].corr()\n",
    "corr_y = corr.loc[corr['Y']!=1&corr['Y'].notnull(),'Y']'''\n",
    "for i in range(20000):\n",
    "    criteria = 0.3 - 0.0001*i\n",
    "    length = (corr_y<-criteria).sum()+(corr_y>criteria).sum()\n",
    "    if length>=2000:\n",
    "        ind = corr.loc[(corr['Y']<-criteria)|(corr['Y']>criteria),'Y']\n",
    "        break\n",
    "ind = np.abs(ind)\n",
    "ind = ind.sort_values(ascending=False)\n",
    "predictors_pear = ind.iloc[0:len(predictors_rf)+1].index.tolist()\n",
    "predictors_pear.remove('Y')"
   ]
  },
  {
   "cell_type": "code",
   "execution_count": 44,
   "metadata": {},
   "outputs": [
    {
     "name": "stdout",
     "output_type": "stream",
     "text": [
      "2000\n"
     ]
    }
   ],
   "source": [
    "print(len(predictors_pear))"
   ]
  },
  {
   "cell_type": "code",
   "execution_count": 45,
   "metadata": {},
   "outputs": [],
   "source": [
    "selected_feat_df = pd.DataFrame({'RandomForest':predictors_rf,'PearsonCorr':predictors_pear})\n"
   ]
  },
  {
   "cell_type": "code",
   "execution_count": 46,
   "metadata": {},
   "outputs": [
    {
     "name": "stdout",
     "output_type": "stream",
     "text": [
      "1279\n",
      "2000\n"
     ]
    }
   ],
   "source": [
    "selected_feat = []\n",
    "i=0\n",
    "while len(selected_feat)<2000:\n",
    "    if selected_feat_df.loc[i,'RandomForest'] not in selected_feat:\n",
    "        selected_feat.append(selected_feat_df.loc[i,'RandomForest'])\n",
    "    if selected_feat_df.loc[i,'PearsonCorr'] not in selected_feat:\n",
    "        selected_feat.append(selected_feat_df.loc[i,'PearsonCorr'])\n",
    "    i+=1\n",
    "print(i)\n",
    "print(len(selected_feat))"
   ]
  },
  {
   "cell_type": "code",
   "execution_count": 47,
   "metadata": {
    "collapsed": true
   },
   "outputs": [],
   "source": [
    "def xgb_kfold(dfTrain,dfPred,predictors,n_splits=5,weight = 1,early_stop = 10 ,params = {'max_depth':3, 'eta':0.01, 'silent':0,'objective':'reg:linear','lambda':1,'subsample':0.8,\n",
    "                         'colsample_bytree':0.8}):  \n",
    "    kf = KFold(n_splits=n_splits,shuffle=True)\n",
    "    dpred = xgb.DMatrix(dfPred[predictors].values,label=[0]*len(dfPred),missing=np.nan)\n",
    "    imp = pd.DataFrame({'variable':predictors,'lk':['f'+str(i) for i in range(len(predictors))]})\n",
    "    round=0\n",
    "    if weight>1:\n",
    "        tmp = np.abs(dfTrain['Y'] - dfTrain['Y'].quantile(0.5))\n",
    "        dfTrain['wgt'] = 1+(weight-1)*(np.abs(dfTrain['Y'] - dfTrain['Y'].quantile(0.5))/np.abs(dfTrain['Y'] - dfTrain['Y'].quantile(0.5)).max())\n",
    "    else:\n",
    "        dfTrain['wgt'] = 1\n",
    "    for train_index, test_index in kf.split(dfTrain):\n",
    "        round+=1\n",
    "        train_X = dfTrain.loc[train_index,predictors]\n",
    "        test_X = dfTrain.loc[test_index,predictors]\n",
    "        train_Y = dfTrain.loc[train_index,'Y']\n",
    "        test_Y = dfTrain.loc[test_index,'Y']\n",
    "        train_wgt = dfTrain.loc[train_index,'wgt']\n",
    "        test_wgt = dfTrain.loc[test_index,'wgt']\n",
    "\n",
    "        dtrain = xgb.DMatrix(train_X.values, label=train_Y.values,weight=train_wgt, missing = np.nan)\n",
    "        dtest = xgb.DMatrix(test_X.values, label=test_Y.values,weight=test_wgt, missing = np.nan)\n",
    "        param = params \n",
    "        evallist  = [(dtrain,'train'),(dtest,'eval')]  \n",
    "        num_round = 5000\n",
    "        evals_dict = {}\n",
    "        model = xgb.train(param,dtrain,num_round, evallist,early_stopping_rounds=early_stop,evals_result=evals_dict,verbose_eval =100)\n",
    "        performance_df = pd.DataFrame(evals_dict['eval'])\n",
    "        #print(performance_df)\n",
    "        bst_tree = len(performance_df)-1-early_stop\n",
    "        pred_test = model.predict(dtest,ntree_limit =bst_tree)\n",
    "\n",
    "        tmp_imp = pd.DataFrame(model.get_score(importance_type='gain'),index=['imp_fold%d'%round]).T\n",
    "        tmp_imp['lk'] = tmp_imp.index\n",
    "        imp = imp.merge(tmp_imp,'left','lk').fillna(0)\n",
    "\n",
    "\n",
    "        pred_score = model.predict(dpred,ntree_limit =bst_tree)\n",
    "        if round==1:\n",
    "            test_result = pd.DataFrame({'ID':dfTrain.loc[test_index,'ID'].values,'score':pred_test,'target':test_Y})\n",
    "            result = pd.DataFrame({'ID':dfPred['ID'],'Score_%d'%round:pred_score})\n",
    "        else:\n",
    "            test_result = pd.concat([test_result,pd.DataFrame({'ID':dfTrain.loc[test_index,'ID'].values,'score':pred_test,'target':test_Y})],axis=0)\n",
    "            result = result.merge(pd.DataFrame({'ID':dfPred['ID'],'Score_%d'%round:pred_score}),'inner','ID')\n",
    "    print(\"Test MSE:\",metrics.mean_squared_error(test_result['target'], test_result['score']))\n",
    "    return test_result,result,imp"
   ]
  },
  {
   "cell_type": "code",
   "execution_count": 50,
   "metadata": {},
   "outputs": [
    {
     "name": "stdout",
     "output_type": "stream",
     "text": [
      "[0]\ttrain-rmse:2.32957\teval-rmse:2.34906\n",
      "Multiple eval metrics have been passed: 'eval-rmse' will be used for early stopping.\n",
      "\n",
      "Will train until eval-rmse hasn't improved in 5 rounds.\n",
      "[100]\ttrain-rmse:0.874241\teval-rmse:0.888242\n",
      "[200]\ttrain-rmse:0.34924\teval-rmse:0.363959\n",
      "[300]\ttrain-rmse:0.166922\teval-rmse:0.203916\n",
      "[400]\ttrain-rmse:0.108388\teval-rmse:0.170549\n",
      "[500]\ttrain-rmse:0.087621\teval-rmse:0.165389\n",
      "Stopping. Best iteration:\n",
      "[496]\ttrain-rmse:0.088133\teval-rmse:0.165365\n",
      "\n",
      "[0]\ttrain-rmse:2.33307\teval-rmse:2.31658\n",
      "Multiple eval metrics have been passed: 'eval-rmse' will be used for early stopping.\n",
      "\n",
      "Will train until eval-rmse hasn't improved in 5 rounds.\n",
      "[100]\ttrain-rmse:0.875347\teval-rmse:0.864241\n",
      "[200]\ttrain-rmse:0.350018\teval-rmse:0.355273\n",
      "[300]\ttrain-rmse:0.168015\teval-rmse:0.201916\n",
      "[400]\ttrain-rmse:0.110297\teval-rmse:0.168314\n",
      "[500]\ttrain-rmse:0.089075\teval-rmse:0.161177\n",
      "Stopping. Best iteration:\n",
      "[520]\ttrain-rmse:0.086411\teval-rmse:0.160283\n",
      "\n",
      "[0]\ttrain-rmse:2.32874\teval-rmse:2.3558\n",
      "Multiple eval metrics have been passed: 'eval-rmse' will be used for early stopping.\n",
      "\n",
      "Will train until eval-rmse hasn't improved in 5 rounds.\n",
      "[100]\ttrain-rmse:0.873566\teval-rmse:0.90215\n",
      "[200]\ttrain-rmse:0.349654\teval-rmse:0.383443\n",
      "[300]\ttrain-rmse:0.167663\teval-rmse:0.212931\n",
      "[400]\ttrain-rmse:0.108676\teval-rmse:0.167006\n",
      "[500]\ttrain-rmse:0.087616\teval-rmse:0.155646\n",
      "Stopping. Best iteration:\n",
      "[540]\ttrain-rmse:0.082456\teval-rmse:0.153398\n",
      "\n",
      "[0]\ttrain-rmse:2.33125\teval-rmse:2.33415\n",
      "Multiple eval metrics have been passed: 'eval-rmse' will be used for early stopping.\n",
      "\n",
      "Will train until eval-rmse hasn't improved in 5 rounds.\n",
      "[100]\ttrain-rmse:0.874966\teval-rmse:0.870128\n",
      "[200]\ttrain-rmse:0.350214\teval-rmse:0.348543\n",
      "[300]\ttrain-rmse:0.168239\teval-rmse:0.188345\n",
      "[400]\ttrain-rmse:0.109274\teval-rmse:0.154423\n",
      "Stopping. Best iteration:\n",
      "[452]\ttrain-rmse:0.096191\teval-rmse:0.15064\n",
      "\n",
      "[0]\ttrain-rmse:2.33098\teval-rmse:2.33606\n",
      "Multiple eval metrics have been passed: 'eval-rmse' will be used for early stopping.\n",
      "\n",
      "Will train until eval-rmse hasn't improved in 5 rounds.\n",
      "[100]\ttrain-rmse:0.874751\teval-rmse:0.883041\n",
      "[200]\ttrain-rmse:0.350247\teval-rmse:0.373692\n",
      "[300]\ttrain-rmse:0.168102\teval-rmse:0.213607\n",
      "[400]\ttrain-rmse:0.110417\teval-rmse:0.174063\n",
      "[500]\ttrain-rmse:0.088806\teval-rmse:0.165502\n",
      "Stopping. Best iteration:\n",
      "[539]\ttrain-rmse:0.083485\teval-rmse:0.164059\n",
      "\n",
      "[0]\ttrain-rmse:2.33533\teval-rmse:2.29565\n",
      "Multiple eval metrics have been passed: 'eval-rmse' will be used for early stopping.\n",
      "\n",
      "Will train until eval-rmse hasn't improved in 5 rounds.\n",
      "[100]\ttrain-rmse:0.876677\teval-rmse:0.839286\n",
      "[200]\ttrain-rmse:0.351772\teval-rmse:0.325783\n",
      "[300]\ttrain-rmse:0.169562\teval-rmse:0.168367\n",
      "[400]\ttrain-rmse:0.112045\teval-rmse:0.137843\n",
      "Stopping. Best iteration:\n",
      "[467]\ttrain-rmse:0.096198\teval-rmse:0.134708\n",
      "\n",
      "[0]\ttrain-rmse:2.33148\teval-rmse:2.33153\n",
      "Multiple eval metrics have been passed: 'eval-rmse' will be used for early stopping.\n",
      "\n",
      "Will train until eval-rmse hasn't improved in 5 rounds.\n",
      "[100]\ttrain-rmse:0.875048\teval-rmse:0.875795\n",
      "[200]\ttrain-rmse:0.350139\teval-rmse:0.367819\n",
      "[300]\ttrain-rmse:0.16761\teval-rmse:0.207871\n",
      "[400]\ttrain-rmse:0.108658\teval-rmse:0.168369\n",
      "[500]\ttrain-rmse:0.087404\teval-rmse:0.159722\n",
      "Stopping. Best iteration:\n",
      "[510]\ttrain-rmse:0.086012\teval-rmse:0.158973\n",
      "\n",
      "[0]\ttrain-rmse:2.33284\teval-rmse:2.31932\n",
      "Multiple eval metrics have been passed: 'eval-rmse' will be used for early stopping.\n",
      "\n",
      "Will train until eval-rmse hasn't improved in 5 rounds.\n",
      "[100]\ttrain-rmse:0.875017\teval-rmse:0.860832\n",
      "[200]\ttrain-rmse:0.34998\teval-rmse:0.353538\n",
      "[300]\ttrain-rmse:0.167544\teval-rmse:0.198549\n",
      "[400]\ttrain-rmse:0.10864\teval-rmse:0.166106\n",
      "Stopping. Best iteration:\n",
      "[475]\ttrain-rmse:0.091252\teval-rmse:0.160632\n",
      "\n",
      "[0]\ttrain-rmse:2.32717\teval-rmse:2.36972\n",
      "Multiple eval metrics have been passed: 'eval-rmse' will be used for early stopping.\n",
      "\n",
      "Will train until eval-rmse hasn't improved in 5 rounds.\n",
      "[100]\ttrain-rmse:0.873079\teval-rmse:0.915602\n",
      "[200]\ttrain-rmse:0.349548\teval-rmse:0.398081\n",
      "[300]\ttrain-rmse:0.167708\teval-rmse:0.232269\n",
      "[400]\ttrain-rmse:0.108908\teval-rmse:0.187849\n",
      "[500]\ttrain-rmse:0.087869\teval-rmse:0.177199\n",
      "Stopping. Best iteration:\n",
      "[563]\ttrain-rmse:0.079901\teval-rmse:0.174438\n",
      "\n",
      "[0]\ttrain-rmse:2.33424\teval-rmse:2.30579\n",
      "Multiple eval metrics have been passed: 'eval-rmse' will be used for early stopping.\n",
      "\n",
      "Will train until eval-rmse hasn't improved in 5 rounds.\n",
      "[100]\ttrain-rmse:0.875389\teval-rmse:0.860994\n",
      "[200]\ttrain-rmse:0.349468\teval-rmse:0.370459\n",
      "[300]\ttrain-rmse:0.166838\teval-rmse:0.227795\n",
      "[400]\ttrain-rmse:0.108471\teval-rmse:0.195367\n",
      "[500]\ttrain-rmse:0.086616\teval-rmse:0.187535\n",
      "Stopping. Best iteration:\n",
      "[528]\ttrain-rmse:0.082876\teval-rmse:0.186041\n",
      "\n",
      "Test MSE: 0.0260669749767\n"
     ]
    }
   ],
   "source": [
    "n_splits =10\n",
    "test_result,result,imp = xgb_kfold(dfTrain,dfPred,selected_feat,n_splits=n_splits,early_stop=5)"
   ]
  },
  {
   "cell_type": "code",
   "execution_count": 51,
   "metadata": {
    "collapsed": true
   },
   "outputs": [],
   "source": [
    "result['score']=result[['Score_%d'%i for i in range(1,n_splits+1)]].mean(axis=1)\n",
    "submit = result[['ID','score']]\n",
    "today = datetime.date.today().strftime('%Y-%m-%d')\n",
    "submit.to_csv('../../Submission/submit_%s.csv'%today,header=False,index=False)\n",
    "test_result.to_csv('../../Submission/test/test_result_%s.csv'%today,index=False)\n",
    "imp.to_csv('../../Submission/imp/importance_%s.csv'%today,index=False)"
   ]
  },
  {
   "cell_type": "code",
   "execution_count": null,
   "metadata": {
    "collapsed": true
   },
   "outputs": [],
   "source": [
    "#RF & Pearson\n",
    "1000  0.0264600389016"
   ]
  },
  {
   "cell_type": "code",
   "execution_count": null,
   "metadata": {
    "collapsed": true
   },
   "outputs": [],
   "source": [
    "#RF\n",
    "500   0.0261706354963\n",
    "800   0.0261447242005\n",
    "1000  0.025398174979 / 0.026301476152\n",
    "2000  0.0259095708883"
   ]
  },
  {
   "cell_type": "code",
   "execution_count": null,
   "metadata": {
    "collapsed": true
   },
   "outputs": [],
   "source": [
    "5000   0.0275283319973\n",
    "3000   0.0276070372856\n",
    "2000   0.0273172188618\n",
    "1000   0.0275733258446\n",
    "500    0.0272536288561\n"
   ]
  }
 ],
 "metadata": {
  "kernelspec": {
   "display_name": "Python 3",
   "language": "python",
   "name": "python3"
  },
  "language_info": {
   "codemirror_mode": {
    "name": "ipython",
    "version": 3
   },
   "file_extension": ".py",
   "mimetype": "text/x-python",
   "name": "python",
   "nbconvert_exporter": "python",
   "pygments_lexer": "ipython3",
   "version": "3.6.3"
  }
 },
 "nbformat": 4,
 "nbformat_minor": 2
}
