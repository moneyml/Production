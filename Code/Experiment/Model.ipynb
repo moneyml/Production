{
 "cells": [
  {
   "cell_type": "code",
   "execution_count": 1,
   "metadata": {
    "collapsed": true
   },
   "outputs": [],
   "source": [
    "import sys\n",
    "import pickle\n",
    "import numpy as np\n",
    "import pandas as pd\n",
    "#from nlp_utils import clean_text, pos_tag_text\n",
    "sys.path.append(\"../\")\n",
    "from param_config import config\n",
    "from sklearn.model_selection import KFold\n",
    "from sklearn import metrics\n",
    "import xgboost as xgb\n",
    "import datetime\n",
    "\n",
    "pd.set_option('display.float_format',lambda x: '%.5f'%x)\n"
   ]
  },
  {
   "cell_type": "code",
   "execution_count": 2,
   "metadata": {},
   "outputs": [
    {
     "name": "stdout",
     "output_type": "stream",
     "text": [
      "Load data...\n",
      "Done.\n"
     ]
    }
   ],
   "source": [
    "print(\"Load data...\")\n",
    "\n",
    "dfTrain = pd.read_csv(config.original_train_data_path)\n",
    "\n",
    "dfPred= pd.read_csv(config.original_test_data_path)\n",
    "dfPred2= pd.read_csv(config.original_test_data2_path)\n",
    "# number of train/test samples\n",
    "num_train, num_pred = dfTrain.shape[0], dfPred.shape[0]\n",
    "\n",
    "print(\"Done.\")\n",
    "\n",
    "f = open('../../Data/col_name.txt','r')  \n",
    "a = f.read()  \n",
    "col_name = eval(a)  \n",
    "f.close() \n",
    "\n",
    "f = open('../../Data/Procedure.txt','r')  \n",
    "a = f.read()  \n",
    "procedure = eval(a)  \n",
    "f.close()\n",
    "\n",
    "f = open('../../Cache/var_change.txt','r')\n",
    "a = f.read()\n",
    "var_change = eval(a)\n",
    "f.close()\n",
    "\n",
    "dfTrain = dfTrain.rename(columns=col_name)\n",
    "raw_predictors = dfTrain.columns.tolist()[1:-1]\n",
    "dfTrain = dfTrain.set_index(dfTrain['ID'])\n",
    "dfPred = dfPred.rename(columns=col_name)\n",
    "dfPred = dfPred.set_index(dfPred['ID'])\n",
    "dfPred2 = dfPred2.rename(columns=col_name)\n",
    "\n",
    "dfPredAll = pd.concat([dfPred,dfPred2],axis=0)\n",
    "dfPredAll = dfPredAll.set_index(dfPredAll['ID'])\n",
    "\n",
    "dfAll = pd.concat([dfTrain,dfPred,dfPred2],axis=0)"
   ]
  },
  {
   "cell_type": "code",
   "execution_count": 3,
   "metadata": {
    "collapsed": true
   },
   "outputs": [],
   "source": [
    "#load features\n",
    "Feat_file = ['Feat_cnt_col','Feat_cnt_tool','Feat_pcent_col','Feat_pcent_tool']\n",
    "ex_feat = []\n",
    "for filename in Feat_file:\n",
    "    tmp = pd.read_csv('../../Cache/'+filename+'.csv')\n",
    "    tmp.set_index(tmp['ID'],inplace=True,drop=True)\n",
    "    tmp_feat_list = tmp.columns.tolist()\n",
    "    if 'ID' in tmp_feat_list:\n",
    "        tmp_feat_list.remove('ID')\n",
    "    ex_feat += tmp_feat_list\n",
    "    dfTrain = pd.merge(dfTrain,tmp,'left','ID')\n",
    "    dfPred = pd.merge(dfPred,tmp,'left','ID')\n",
    "   \n",
    "        \n"
   ]
  },
  {
   "cell_type": "code",
   "execution_count": null,
   "metadata": {
    "collapsed": true
   },
   "outputs": [],
   "source": [
    "##define the variables\n",
    "'''var_change = {'raw':raw}\n",
    "for filename in Feat_file:\n",
    "    tmp = pd.read_csv('../../Cache/'+filename+'.csv',nrows=10)\n",
    "    tmp.set_index(tmp['ID'],inplace=True,drop=True)\n",
    "    tmp_feat_list = tmp.columns.tolist()\n",
    "    if 'ID' in tmp_feat_list:\n",
    "        tmp_feat_list.remove('ID')\n",
    "    var_change[filename] = {'constant':[],'category':[]}\n",
    "    for var in tmp_feat_list:\n",
    "        if dfTrain[var].nunique()==1 and dfTrain[var].isnull().sum()==0:\n",
    "            var_change[filename]['constant'].append(var)\n",
    "        elif dfTrain[var].nunique()<=5 or 'TOOL' in var:\n",
    "            var_change[filename]['category'].append(var)\n",
    "'''\n",
    "\n"
   ]
  },
  {
   "cell_type": "code",
   "execution_count": 4,
   "metadata": {},
   "outputs": [
    {
     "name": "stdout",
     "output_type": "stream",
     "text": [
      "raw\n",
      "Feat_cnt_col\n",
      "Feat_cnt_tool\n",
      "Feat_pcent_col\n",
      "Feat_pcent_tool\n"
     ]
    }
   ],
   "source": [
    "#define the input variables, dummies\n",
    "predictors = raw_predictors+ex_feat\n",
    "for key,value in var_change.items():\n",
    "    print(key)\n",
    "    for var in var_change[key]['constant']:\n",
    "        predictors.remove(var)\n",
    "    for var in var_change[key]['category']:\n",
    "        predictors.remove(var)\n",
    "        tmpTrain = pd.get_dummies(dfTrain[var],prefix=var,dummy_na=True)\n",
    "        tmpPred = pd.get_dummies(dfPred[var],prefix=var,dummy_na=True)\n",
    "        predictors = predictors + tmpTrain.columns.tolist()\n",
    "        dfTrain = pd.concat([dfTrain,tmpTrain],axis=1)\n",
    "        dfPred = pd.concat([dfPred,tmpPred],axis=1)\n",
    "for var in predictors:\n",
    "    if var not in dfPred.columns:\n",
    "        dfPred[var] = 0"
   ]
  },
  {
   "cell_type": "code",
   "execution_count": 5,
   "metadata": {},
   "outputs": [
    {
     "name": "stdout",
     "output_type": "stream",
     "text": [
      "(500, 58736)\n",
      "(100, 58736)\n"
     ]
    }
   ],
   "source": [
    "print(dfTrain[predictors].shape)\n",
    "print(dfPred[predictors].shape)"
   ]
  },
  {
   "cell_type": "code",
   "execution_count": 12,
   "metadata": {},
   "outputs": [],
   "source": [
    "def xgb_kfold(dfTrain,dfPred,predictors,n_splits=5):  \n",
    "    kf = KFold(n_splits=n_splits,shuffle=True)\n",
    "    dpred = xgb.DMatrix(dfPred[predictors].values,label=[0]*len(dfPred),missing=np.nan)\n",
    "    imp = pd.DataFrame({'variable':predictors,'lk':['f'+str(i) for i in range(len(predictors))]})\n",
    "    round=0\n",
    "    for train_index, test_index in kf.split(dfTrain):\n",
    "        round+=1\n",
    "        train_X = dfTrain.loc[train_index,predictors]\n",
    "        test_X = dfTrain.loc[test_index,predictors]\n",
    "        train_Y = dfTrain.loc[train_index,'Y']\n",
    "        test_Y = dfTrain.loc[test_index,'Y']\n",
    "\n",
    "        dtrain = xgb.DMatrix(train_X.values, label=train_Y.values, missing = np.nan)\n",
    "        dtest = xgb.DMatrix(test_X.values, label=test_Y.values, missing = np.nan)\n",
    "        param = param = {'max_depth':4, 'eta':0.01, 'silent':0,'objective':'reg:linear','lambda':3,'subsample':0.8,\n",
    "                         'colsample_bytree':0.8}\n",
    "        evallist  = [(dtrain,'train'),(dtest,'eval')]  \n",
    "        num_round = 5000\n",
    "        evals_dict = {}\n",
    "        model = xgb.train(param,dtrain,num_round, evallist,early_stopping_rounds=50,evals_result=evals_dict,verbose_eval =50)\n",
    "        performance_df = pd.DataFrame(evals_dict['eval'])\n",
    "        bst_tree = len(performance_df)-51\n",
    "        pred_test = model.predict(dtest,ntree_limit =bst_tree)\n",
    "\n",
    "        tmp_imp = pd.DataFrame(model.get_score(importance_type='gain'),index=['imp_fold%d'%round]).T\n",
    "        tmp_imp['lk'] = tmp_imp.index\n",
    "        imp = imp.merge(tmp_imp,'left','lk').fillna(0)\n",
    "\n",
    "\n",
    "        pred_score = model.predict(dpred,ntree_limit =bst_tree)\n",
    "        if round==1:\n",
    "            test_result = pd.DataFrame({'ID':dfTrain.loc[test_index,'ID'].values,'score':pred_test,'target':test_Y})\n",
    "            result = pd.DataFrame({'ID':dfPred['ID'],'Score_%d'%round:pred_score})\n",
    "        else:\n",
    "            test_result = pd.concat([test_result,pd.DataFrame({'ID':dfTrain.loc[test_index,'ID'].values,'score':pred_test,'target':test_Y})],axis=0)\n",
    "            result = result.merge(pd.DataFrame({'ID':dfPred['ID'],'Score_%d'%round:pred_score}),'inner','ID')\n",
    "    print(\"Test MSE:\",metrics.mean_squared_error(test_result['target'], test_result['score']))\n",
    "    return test_result,result,imp"
   ]
  },
  {
   "cell_type": "code",
   "execution_count": 13,
   "metadata": {},
   "outputs": [
    {
     "name": "stdout",
     "output_type": "stream",
     "text": [
      "[0]\ttrain-rmse:2.33285\teval-rmse:2.3264\n",
      "Multiple eval metrics have been passed: 'eval-rmse' will be used for early stopping.\n",
      "\n",
      "Will train until eval-rmse hasn't improved in 50 rounds.\n",
      "[50]\ttrain-rmse:1.42636\teval-rmse:1.42001\n",
      "[100]\ttrain-rmse:0.88203\teval-rmse:0.876213\n",
      "[150]\ttrain-rmse:0.556934\teval-rmse:0.558083\n",
      "[200]\ttrain-rmse:0.361284\teval-rmse:0.37381\n",
      "[250]\ttrain-rmse:0.243177\teval-rmse:0.273993\n",
      "[300]\ttrain-rmse:0.169976\teval-rmse:0.221457\n",
      "[350]\ttrain-rmse:0.123994\teval-rmse:0.195594\n",
      "[400]\ttrain-rmse:0.094886\teval-rmse:0.184763\n",
      "[450]\ttrain-rmse:0.075495\teval-rmse:0.179612\n",
      "[500]\ttrain-rmse:0.062208\teval-rmse:0.177411\n",
      "[550]\ttrain-rmse:0.052413\teval-rmse:0.176235\n",
      "[600]\ttrain-rmse:0.04513\teval-rmse:0.175533\n",
      "[650]\ttrain-rmse:0.039544\teval-rmse:0.175585\n",
      "Stopping. Best iteration:\n",
      "[635]\ttrain-rmse:0.041172\teval-rmse:0.175475\n",
      "\n",
      "[0]\ttrain-rmse:2.32894\teval-rmse:2.34264\n",
      "Multiple eval metrics have been passed: 'eval-rmse' will be used for early stopping.\n",
      "\n",
      "Will train until eval-rmse hasn't improved in 50 rounds.\n",
      "[50]\ttrain-rmse:1.42469\teval-rmse:1.43836\n",
      "[100]\ttrain-rmse:0.88068\teval-rmse:0.894744\n",
      "[150]\ttrain-rmse:0.555769\teval-rmse:0.574838\n",
      "[200]\ttrain-rmse:0.360603\teval-rmse:0.390043\n",
      "[250]\ttrain-rmse:0.241943\teval-rmse:0.287002\n",
      "[300]\ttrain-rmse:0.168671\teval-rmse:0.233938\n",
      "[350]\ttrain-rmse:0.122913\teval-rmse:0.207321\n",
      "[400]\ttrain-rmse:0.093409\teval-rmse:0.194342\n",
      "[450]\ttrain-rmse:0.07379\teval-rmse:0.187733\n",
      "[500]\ttrain-rmse:0.060314\teval-rmse:0.184421\n",
      "[550]\ttrain-rmse:0.050665\teval-rmse:0.182434\n",
      "[600]\ttrain-rmse:0.043218\teval-rmse:0.181337\n",
      "[650]\ttrain-rmse:0.03715\teval-rmse:0.180633\n",
      "[700]\ttrain-rmse:0.032247\teval-rmse:0.180153\n",
      "[750]\ttrain-rmse:0.028243\teval-rmse:0.179734\n",
      "[800]\ttrain-rmse:0.02483\teval-rmse:0.179495\n",
      "[850]\ttrain-rmse:0.021819\teval-rmse:0.179232\n",
      "[900]\ttrain-rmse:0.01942\teval-rmse:0.178945\n",
      "[950]\ttrain-rmse:0.017191\teval-rmse:0.178821\n",
      "[1000]\ttrain-rmse:0.015303\teval-rmse:0.178712\n",
      "[1050]\ttrain-rmse:0.013497\teval-rmse:0.178683\n",
      "Stopping. Best iteration:\n",
      "[1026]\ttrain-rmse:0.014335\teval-rmse:0.178637\n",
      "\n",
      "[0]\ttrain-rmse:2.33353\teval-rmse:2.32368\n",
      "Multiple eval metrics have been passed: 'eval-rmse' will be used for early stopping.\n",
      "\n",
      "Will train until eval-rmse hasn't improved in 50 rounds.\n",
      "[50]\ttrain-rmse:1.42742\teval-rmse:1.41859\n",
      "[100]\ttrain-rmse:0.881827\teval-rmse:0.874813\n",
      "[150]\ttrain-rmse:0.556506\teval-rmse:0.555738\n",
      "[200]\ttrain-rmse:0.361784\teval-rmse:0.374269\n",
      "[250]\ttrain-rmse:0.243306\teval-rmse:0.275657\n",
      "[300]\ttrain-rmse:0.170134\teval-rmse:0.225545\n",
      "[350]\ttrain-rmse:0.123928\teval-rmse:0.202308\n",
      "[400]\ttrain-rmse:0.094487\teval-rmse:0.191289\n",
      "[450]\ttrain-rmse:0.074758\teval-rmse:0.18602\n",
      "[500]\ttrain-rmse:0.061063\teval-rmse:0.184001\n",
      "[550]\ttrain-rmse:0.050964\teval-rmse:0.182927\n",
      "[600]\ttrain-rmse:0.043367\teval-rmse:0.182464\n",
      "[650]\ttrain-rmse:0.037237\teval-rmse:0.182044\n",
      "[700]\ttrain-rmse:0.032109\teval-rmse:0.181596\n",
      "[750]\ttrain-rmse:0.027949\teval-rmse:0.181382\n",
      "[800]\ttrain-rmse:0.024324\teval-rmse:0.181296\n",
      "Stopping. Best iteration:\n",
      "[774]\ttrain-rmse:0.026063\teval-rmse:0.181238\n",
      "\n",
      "[0]\ttrain-rmse:2.32979\teval-rmse:2.33886\n",
      "Multiple eval metrics have been passed: 'eval-rmse' will be used for early stopping.\n",
      "\n",
      "Will train until eval-rmse hasn't improved in 50 rounds.\n",
      "[50]\ttrain-rmse:1.42489\teval-rmse:1.43418\n",
      "[100]\ttrain-rmse:0.880987\teval-rmse:0.89223\n",
      "[150]\ttrain-rmse:0.556145\teval-rmse:0.572893\n",
      "[200]\ttrain-rmse:0.361542\teval-rmse:0.389456\n",
      "[250]\ttrain-rmse:0.243879\teval-rmse:0.286946\n",
      "[300]\ttrain-rmse:0.171499\teval-rmse:0.231254\n",
      "[350]\ttrain-rmse:0.125696\teval-rmse:0.20304\n",
      "[400]\ttrain-rmse:0.096262\teval-rmse:0.188882\n",
      "[450]\ttrain-rmse:0.076737\teval-rmse:0.18185\n",
      "[500]\ttrain-rmse:0.062707\teval-rmse:0.178047\n",
      "[550]\ttrain-rmse:0.053027\teval-rmse:0.176503\n",
      "[600]\ttrain-rmse:0.045437\teval-rmse:0.175114\n",
      "[650]\ttrain-rmse:0.039098\teval-rmse:0.174141\n",
      "[700]\ttrain-rmse:0.034197\teval-rmse:0.173581\n",
      "[750]\ttrain-rmse:0.029997\teval-rmse:0.173578\n",
      "Stopping. Best iteration:\n",
      "[710]\ttrain-rmse:0.033378\teval-rmse:0.173513\n",
      "\n",
      "[0]\ttrain-rmse:2.33291\teval-rmse:2.32638\n",
      "Multiple eval metrics have been passed: 'eval-rmse' will be used for early stopping.\n",
      "\n",
      "Will train until eval-rmse hasn't improved in 50 rounds.\n",
      "[50]\ttrain-rmse:1.42691\teval-rmse:1.41904\n",
      "[100]\ttrain-rmse:0.88295\teval-rmse:0.875459\n",
      "[150]\ttrain-rmse:0.557812\teval-rmse:0.552917\n",
      "[200]\ttrain-rmse:0.362583\teval-rmse:0.364841\n",
      "[250]\ttrain-rmse:0.244007\teval-rmse:0.256797\n",
      "[300]\ttrain-rmse:0.171275\teval-rmse:0.199669\n",
      "[350]\ttrain-rmse:0.125287\teval-rmse:0.171465\n",
      "[400]\ttrain-rmse:0.096307\teval-rmse:0.159918\n",
      "[450]\ttrain-rmse:0.076639\teval-rmse:0.156116\n",
      "[500]\ttrain-rmse:0.062925\teval-rmse:0.154451\n",
      "[550]\ttrain-rmse:0.052594\teval-rmse:0.154475\n",
      "Stopping. Best iteration:\n",
      "[525]\ttrain-rmse:0.057353\teval-rmse:0.154338\n",
      "\n",
      "Test MSE: 0.0299091324751\n"
     ]
    }
   ],
   "source": [
    "test_result,result,imp = xgb_kfold(dfTrain,dfPred,predictors)"
   ]
  },
  {
   "cell_type": "code",
   "execution_count": 11,
   "metadata": {
    "collapsed": true
   },
   "outputs": [],
   "source": [
    "result['score']=result[['Score_1','Score_2','Score_3','Score_4','Score_5']].mean(axis=1)\n",
    "submit = result[['ID','score']]\n",
    "today = datetime.date.today().strftime('%Y-%m-%d')\n",
    "submit.to_csv('../../Submission/submit_%s.csv'%today,header=False,index=False)"
   ]
  },
  {
   "cell_type": "code",
   "execution_count": null,
   "metadata": {
    "collapsed": true
   },
   "outputs": [],
   "source": [
    "0.0304606416852"
   ]
  }
 ],
 "metadata": {
  "kernelspec": {
   "display_name": "Python 3",
   "language": "python",
   "name": "python3"
  },
  "language_info": {
   "codemirror_mode": {
    "name": "ipython",
    "version": 3
   },
   "file_extension": ".py",
   "mimetype": "text/x-python",
   "name": "python",
   "nbconvert_exporter": "python",
   "pygments_lexer": "ipython3",
   "version": "3.6.3"
  }
 },
 "nbformat": 4,
 "nbformat_minor": 2
}
