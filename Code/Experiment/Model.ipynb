{
 "cells": [
  {
   "cell_type": "code",
   "execution_count": 1,
   "metadata": {},
   "outputs": [
    {
     "name": "stdout",
     "output_type": "stream",
     "text": [
      "Load data...\n",
      "Done.\n",
      "False\n"
     ]
    }
   ],
   "source": [
    "import sys\n",
    "import pickle\n",
    "import numpy as np\n",
    "import pandas as pd\n",
    "#from nlp_utils import clean_text, pos_tag_text\n",
    "sys.path.append(\"../\")\n",
    "from param_config import config\n",
    "from sklearn.model_selection import KFold\n",
    "from sklearn.ensemble import RandomForestRegressor\n",
    "from sklearn import metrics\n",
    "import xgboost as xgb\n",
    "import datetime\n",
    "from sklearn.linear_model import LassoLars\n",
    "from minepy import MINE\n",
    "from keras import \n",
    " \n",
    "\n",
    "pd.set_option('display.float_format',lambda x: '%.5f'%x)\n",
    "\n",
    "print(\"Load data...\")\n",
    "\n",
    "dfTrain = pd.read_csv(config.original_train_data_path)\n",
    "\n",
    "dfPred= pd.read_csv(config.original_test_data_path)\n",
    "#dfPred2= pd.read_csv(config.original_test_data2_path)\n",
    "# number of train/test samples\n",
    "num_train, num_pred = dfTrain.shape[0], dfPred.shape[0]\n",
    "\n",
    "print(\"Done.\")\n",
    "\n",
    "f = open('../../Data/col_name.txt','r')  \n",
    "a = f.read()  \n",
    "col_name = eval(a)  \n",
    "f.close() \n",
    "\n",
    "f = open('../../Data/Procedure.txt','r')  \n",
    "a = f.read()  \n",
    "procedure = eval(a)  \n",
    "f.close()\n",
    "\n",
    "f = open('../../Cache/var_change.txt','r')\n",
    "a = f.read()\n",
    "var_change = eval(a)\n",
    "f.close()\n",
    "\n",
    "dfTrain = dfTrain.rename(columns=col_name)\n",
    "raw_predictors = dfTrain.columns.tolist()[1:-1]\n",
    "dfTrain = dfTrain.set_index(dfTrain['ID'])\n",
    "dfPred = dfPred.rename(columns=col_name)\n",
    "dfPred = dfPred.set_index(dfPred['ID'])\n",
    "print('Y' in raw_predictors)"
   ]
  },
  {
   "cell_type": "code",
   "execution_count": 2,
   "metadata": {
    "collapsed": true
   },
   "outputs": [],
   "source": [
    "Feat_file = ['Feat_cnt_col_nonmissing','Feat_cnt_tool_nonmissing','Feat_pcent_col_nonmissing','Feat_pcent_tool_nonmissing','All_minus','group_var_std','All_minus_single_col']\n",
    "ex_feat = []\n",
    "for filename in Feat_file:\n",
    "    if filename == 'Feat_minus_non_missing':\n",
    "        tmp = pd.read_csv('../../../'+filename+'.csv')\n",
    "    else:\n",
    "        tmp = pd.read_csv('../../Cache/'+filename+'.csv')\n",
    "    tmp.set_index(tmp['ID'],inplace=True,drop=True)\n",
    "    tmp_feat_list = tmp.columns.tolist()\n",
    "    if 'ID' in tmp_feat_list:\n",
    "        tmp_feat_list.remove('ID')\n",
    "    ex_feat += tmp_feat_list\n",
    "    dfTrain = pd.merge(dfTrain,tmp,'left','ID')\n",
    "    dfPred = pd.merge(dfPred,tmp,'left','ID')\n",
    "    \n",
    "predictors = raw_predictors+ex_feat"
   ]
  },
  {
   "cell_type": "code",
   "execution_count": 3,
   "metadata": {},
   "outputs": [
    {
     "name": "stdout",
     "output_type": "stream",
     "text": [
      "TOOL_310_E\n",
      "TOOL_340_2409.0\n",
      "TOOL_344_T\n",
      "TOOL_360_C\n"
     ]
    }
   ],
   "source": [
    "#define the input variables, dummies\n",
    "predictors = raw_predictors+ex_feat\n",
    "feat_cnt = 0\n",
    "for key,value in var_change.items():\n",
    "    feat_cnt+=1\n",
    "    if feat_cnt>1:\n",
    "        continue\n",
    "    for var in var_change[key]['constant']:\n",
    "        try:\n",
    "            predictors.remove(var)\n",
    "        except:\n",
    "            continue\n",
    "    for var in var_change[key]['category']:\n",
    "        if not 'TOOL' in var:\n",
    "            continue\n",
    "        try:\n",
    "            predictors.remove(var)\n",
    "        except:\n",
    "            continue\n",
    "        tmpTrain = pd.get_dummies(dfTrain[var],prefix=var,dummy_na=True)\n",
    "        tmpPred = pd.get_dummies(dfPred[var],prefix=var,dummy_na=True)\n",
    "        predictors = predictors + tmpTrain.columns.tolist()\n",
    "        dfTrain = pd.concat([dfTrain,tmpTrain],axis=1)\n",
    "        dfPred = pd.concat([dfPred,tmpPred],axis=1)\n",
    "for var in predictors:\n",
    "    if var not in dfPred.columns:\n",
    "        print(var)\n",
    "        dfPred[var] = 0"
   ]
  },
  {
   "cell_type": "code",
   "execution_count": 4,
   "metadata": {},
   "outputs": [
    {
     "name": "stdout",
     "output_type": "stream",
     "text": [
      "(500, 30458)\n",
      "(100, 30458)\n",
      "30458\n"
     ]
    }
   ],
   "source": [
    "print(dfTrain[predictors].shape)\n",
    "print(dfPred[predictors].shape)\n",
    "print(len(predictors))"
   ]
  },
  {
   "cell_type": "code",
   "execution_count": 14,
   "metadata": {},
   "outputs": [
    {
     "name": "stdout",
     "output_type": "stream",
     "text": [
      "[ 0.  0.  0. ...,  0.  0.  0.]\n"
     ]
    }
   ],
   "source": [
    "##feature selection by lasso/lars\n",
    "reg = LassoLars(alpha=0.01,copy_X=True, eps=..., fit_intercept=True,\n",
    "     fit_path=True, max_iter=5000, normalize=True, positive=False,\n",
    "     precompute='auto', verbose=False)\n",
    "reg.fit( dfTrain[predictors], dfTrain['Y'])\n",
    "print(reg.coef_)"
   ]
  },
  {
   "cell_type": "code",
   "execution_count": null,
   "metadata": {
    "collapsed": true
   },
   "outputs": [],
   "source": []
  },
  {
   "cell_type": "code",
   "execution_count": 42,
   "metadata": {},
   "outputs": [
    {
     "name": "stdout",
     "output_type": "stream",
     "text": [
      "2000\n"
     ]
    }
   ],
   "source": [
    "##feature selection by RF\n",
    "from sklearn.ensemble import RandomForestRegressor  \n",
    "import numpy as np  \n",
    "\n",
    "rf = RandomForestRegressor(n_estimators=5000, max_features='sqrt',  max_depth=4, random_state=615)  \n",
    "rf.fit(dfTrain[predictors], dfTrain['Y'])  \n",
    "\n",
    "rf_imp_df = pd.DataFrame({'var':predictors,'imp':rf.feature_importances_})\n",
    "rf_imp_df.sort_values('imp',ascending=False,inplace =True)\n",
    "\n",
    "feat_num = 2000\n",
    "creteria = rf_imp_df.iloc[feat_num-1,0]\n",
    "predictors_rf = rf_imp_df.loc[rf_imp_df['imp']>=creteria,'var'].values.tolist()\n",
    "print(len(predictors_rf))"
   ]
  },
  {
   "cell_type": "code",
   "execution_count": 44,
   "metadata": {
    "collapsed": true
   },
   "outputs": [],
   "source": [
    "##feature selection by pearson correlation\n",
    "'''corr = dfTrain[predictors+['Y']].corr()\n",
    "corr_y = corr.loc[corr['Y']!=1&corr['Y'].notnull(),'Y']'''\n",
    "for i in range(20000):\n",
    "    criteria = 0.3 - 0.0001*i\n",
    "    length = (corr_y<-criteria).sum()+(corr_y>criteria).sum()\n",
    "    if length>=200:\n",
    "        ind = corr.loc[(corr['Y']<-criteria)|(corr['Y']>criteria),'Y']\n",
    "        break\n",
    "ind = np.abs(ind)\n",
    "ind = ind.sort_values(ascending=False)\n",
    "#predictors_pear = ind.iloc[0:len(predictors_rf)+1].index.tolist()\n",
    "predictors_pear = ind.index.tolist()\n",
    "predictors_pear.remove('Y')\n",
    "selected_feat = predictors_pear.copy()"
   ]
  },
  {
   "cell_type": "code",
   "execution_count": 17,
   "metadata": {
    "collapsed": true
   },
   "outputs": [],
   "source": [
    "##feature selection by MIC\n",
    "m = MINE()\n",
    "predictors_mic = []\n",
    "for var in predictors:\n",
    "    m.compute_score(dfTrain[var].values.tolist(),dfTrain['Y'].values.tolist())\n",
    "    predictors_mic.append(m.mic())\n",
    "mic_df=pd.DataFrame({'var':predictors,'mic':predictors_mic})"
   ]
  },
  {
   "cell_type": "code",
   "execution_count": 31,
   "metadata": {
    "collapsed": true
   },
   "outputs": [],
   "source": [
    "#mic_df.sort_values('mic',ascending=False,inplace = True)\n",
    "#mic_df.reset_index(inplace = True)\n",
    "t = 1500\n",
    "predictors_mic = mic_df.loc[0:t,'var'].values.tolist()\n",
    "selected_feat = predictors_mic.copy()\n"
   ]
  },
  {
   "cell_type": "code",
   "execution_count": 45,
   "metadata": {
    "collapsed": true
   },
   "outputs": [],
   "source": [
    "selected_feat_df = pd.DataFrame({'RandomForest':predictors_rf,'PearsonCorr':predictors_pear})\n"
   ]
  },
  {
   "cell_type": "code",
   "execution_count": 46,
   "metadata": {},
   "outputs": [
    {
     "name": "stdout",
     "output_type": "stream",
     "text": [
      "1279\n",
      "2000\n"
     ]
    }
   ],
   "source": [
    "selected_feat = []\n",
    "i=0\n",
    "while len(selected_feat)<2000:\n",
    "    if selected_feat_df.loc[i,'RandomForest'] not in selected_feat:\n",
    "        selected_feat.append(selected_feat_df.loc[i,'RandomForest'])\n",
    "    if selected_feat_df.loc[i,'PearsonCorr'] not in selected_feat:\n",
    "        selected_feat.append(selected_feat_df.loc[i,'PearsonCorr'])\n",
    "    i+=1\n",
    "print(i)\n",
    "print(len(selected_feat))"
   ]
  },
  {
   "cell_type": "code",
   "execution_count": 32,
   "metadata": {
    "collapsed": true
   },
   "outputs": [],
   "source": [
    "def xgb_kfold(dfTrain,dfPred,predictors,n_splits=5,weight = 1,early_stop = 10,ins_rmse = 0,params = {'max_depth':3, 'eta':0.01, 'silent':0,'objective':'reg:linear','lambda':1,'subsample':0.8,\n",
    "                         'colsample_bytree':0.8}):  \n",
    "    kf = KFold(n_splits=n_splits,shuffle=True)\n",
    "    dpred = xgb.DMatrix(dfPred[predictors].values,label=[0]*len(dfPred),missing=np.nan)\n",
    "    imp = pd.DataFrame({'variable':predictors,'lk':['f'+str(i) for i in range(len(predictors))]})\n",
    "    round=0\n",
    "    if weight>1:\n",
    "        tmp = np.abs(dfTrain['Y'] - dfTrain['Y'].quantile(0.5))\n",
    "        dfTrain['wgt'] = 1+(weight-1)*(np.abs(dfTrain['Y'] - dfTrain['Y'].quantile(0.5))/np.abs(dfTrain['Y'] - dfTrain['Y'].quantile(0.5)).max())\n",
    "    else:\n",
    "        dfTrain['wgt'] = 1\n",
    "    for train_index, test_index in kf.split(dfTrain):\n",
    "        round+=1\n",
    "        train_X = dfTrain.loc[train_index,predictors]\n",
    "        test_X = dfTrain.loc[test_index,predictors]\n",
    "        train_Y = dfTrain.loc[train_index,'Y']\n",
    "        test_Y = dfTrain.loc[test_index,'Y']\n",
    "        train_wgt = dfTrain.loc[train_index,'wgt']\n",
    "        test_wgt = dfTrain.loc[test_index,'wgt']\n",
    "\n",
    "        dtrain = xgb.DMatrix(train_X.values, label=train_Y.values,weight=train_wgt, missing = np.nan)\n",
    "        dtest = xgb.DMatrix(test_X.values, label=test_Y.values,weight=test_wgt, missing = np.nan)\n",
    "        param = params \n",
    "        evallist  = [(dtrain,'train'),(dtest,'eval')]  \n",
    "        num_round = 5000\n",
    "        evals_dict = {}\n",
    "        model = xgb.train(param,dtrain,num_round, evallist,early_stopping_rounds=early_stop,evals_result=evals_dict,verbose_eval =100)\n",
    "        performance_df = pd.DataFrame({'train':evals_dict['train']['rmse'],'eval':evals_dict['eval']['rmse']})\n",
    "        performance_df =performance_df.loc[performance_df['train']>=ins_rmse]\n",
    "        #bst_tree = len(performance_df)-1-early_stop\n",
    "        bst_tree = performance_df.loc[performance_df['eval']==performance_df['eval'].min()].index.tolist()[0] + 1\n",
    "        print('Best tree is %d, performance is %f, %f'%(bst_tree,performance_df.loc[bst_tree-1,'train'],performance_df.loc[bst_tree-1,'eval']))\n",
    "        pred_test = model.predict(dtest,ntree_limit =bst_tree)\n",
    "\n",
    "        tmp_imp = pd.DataFrame(model.get_score(importance_type='gain'),index=['imp_fold%d'%round]).T\n",
    "        tmp_imp['lk'] = tmp_imp.index\n",
    "        imp = imp.merge(tmp_imp,'left','lk').fillna(0)\n",
    "\n",
    "\n",
    "        pred_score = model.predict(dpred,ntree_limit =bst_tree)\n",
    "        if round==1:\n",
    "            test_result = pd.DataFrame({'ID':dfTrain.loc[test_index,'ID'].values,'score':pred_test,'target':test_Y})\n",
    "            result = pd.DataFrame({'ID':dfPred['ID'],'Score_%d'%round:pred_score})\n",
    "        else:\n",
    "            test_result = pd.concat([test_result,pd.DataFrame({'ID':dfTrain.loc[test_index,'ID'].values,'score':pred_test,'target':test_Y})],axis=0)\n",
    "            result = result.merge(pd.DataFrame({'ID':dfPred['ID'],'Score_%d'%round:pred_score}),'inner','ID')\n",
    "    print(\"Test MSE:\",metrics.mean_squared_error(test_result['target'], test_result['score']))\n",
    "    return test_result,result,imp"
   ]
  },
  {
   "cell_type": "code",
   "execution_count": 36,
   "metadata": {},
   "outputs": [
    {
     "name": "stdout",
     "output_type": "stream",
     "text": [
      "[0]\ttrain-rmse:2.33752\teval-rmse:2.30673\n",
      "Multiple eval metrics have been passed: 'eval-rmse' will be used for early stopping.\n",
      "\n",
      "Will train until eval-rmse hasn't improved in 10 rounds.\n",
      "[100]\ttrain-rmse:0.878287\teval-rmse:0.848899\n",
      "[200]\ttrain-rmse:0.353554\teval-rmse:0.338595\n",
      "[300]\ttrain-rmse:0.171692\teval-rmse:0.187813\n",
      "[400]\ttrain-rmse:0.114496\teval-rmse:0.159966\n",
      "Stopping. Best iteration:\n",
      "[481]\ttrain-rmse:0.096322\teval-rmse:0.156886\n",
      "\n",
      "Best tree is 482, performance is 0.096322, 0.156886\n",
      "[0]\ttrain-rmse:2.32816\teval-rmse:2.34501\n",
      "Multiple eval metrics have been passed: 'eval-rmse' will be used for early stopping.\n",
      "\n",
      "Will train until eval-rmse hasn't improved in 10 rounds.\n",
      "[100]\ttrain-rmse:0.874252\teval-rmse:0.893205\n",
      "[200]\ttrain-rmse:0.352123\teval-rmse:0.381493\n",
      "[300]\ttrain-rmse:0.171479\teval-rmse:0.220524\n",
      "[400]\ttrain-rmse:0.114021\teval-rmse:0.179624\n",
      "[500]\ttrain-rmse:0.093178\teval-rmse:0.170339\n",
      "Stopping. Best iteration:\n",
      "[552]\ttrain-rmse:0.086501\teval-rmse:0.168107\n",
      "\n",
      "Best tree is 553, performance is 0.086501, 0.168107\n",
      "[0]\ttrain-rmse:2.33143\teval-rmse:2.33179\n",
      "Multiple eval metrics have been passed: 'eval-rmse' will be used for early stopping.\n",
      "\n",
      "Will train until eval-rmse hasn't improved in 10 rounds.\n",
      "[100]\ttrain-rmse:0.875311\teval-rmse:0.876847\n",
      "[200]\ttrain-rmse:0.351864\teval-rmse:0.368992\n",
      "[300]\ttrain-rmse:0.171526\teval-rmse:0.215553\n",
      "[400]\ttrain-rmse:0.114253\teval-rmse:0.182047\n",
      "[500]\ttrain-rmse:0.093345\teval-rmse:0.17502\n",
      "Stopping. Best iteration:\n",
      "[561]\ttrain-rmse:0.085391\teval-rmse:0.173538\n",
      "\n",
      "Best tree is 562, performance is 0.085391, 0.173538\n",
      "[0]\ttrain-rmse:2.33097\teval-rmse:2.3339\n",
      "Multiple eval metrics have been passed: 'eval-rmse' will be used for early stopping.\n",
      "\n",
      "Will train until eval-rmse hasn't improved in 10 rounds.\n",
      "[100]\ttrain-rmse:0.875652\teval-rmse:0.879552\n",
      "[200]\ttrain-rmse:0.353158\teval-rmse:0.366016\n",
      "[300]\ttrain-rmse:0.17321\teval-rmse:0.204447\n",
      "[400]\ttrain-rmse:0.115563\teval-rmse:0.165105\n",
      "[500]\ttrain-rmse:0.094256\teval-rmse:0.156451\n",
      "[600]\ttrain-rmse:0.082185\teval-rmse:0.153809\n",
      "[700]\ttrain-rmse:0.073465\teval-rmse:0.15217\n",
      "Stopping. Best iteration:\n",
      "[696]\ttrain-rmse:0.073786\teval-rmse:0.152101\n",
      "\n",
      "Best tree is 622, performance is 0.080041, 0.153330\n",
      "[0]\ttrain-rmse:2.32947\teval-rmse:2.33996\n",
      "Multiple eval metrics have been passed: 'eval-rmse' will be used for early stopping.\n",
      "\n",
      "Will train until eval-rmse hasn't improved in 10 rounds.\n",
      "[100]\ttrain-rmse:0.874018\teval-rmse:0.88871\n",
      "[200]\ttrain-rmse:0.350467\teval-rmse:0.380147\n",
      "[300]\ttrain-rmse:0.169773\teval-rmse:0.226553\n",
      "[400]\ttrain-rmse:0.113157\teval-rmse:0.193121\n",
      "[500]\ttrain-rmse:0.092796\teval-rmse:0.1868\n",
      "Stopping. Best iteration:\n",
      "[541]\ttrain-rmse:0.087619\teval-rmse:0.186167\n",
      "\n",
      "Best tree is 542, performance is 0.087619, 0.186167\n",
      "Test MSE: 0.0282313879685\n"
     ]
    }
   ],
   "source": [
    "n_splits = 5\n",
    "early_stop =10\n",
    "ins_rmse = 0.08\n",
    "test_result,result,imp = xgb_kfold(dfTrain,dfPred,selected_feat,n_splits=n_splits,early_stop=early_stop,ins_rmse = ins_rmse)\n",
    "\n",
    "#test = xgb_kfold(dfTrain,dfPred,selected_feat,n_splits=n_splits,early_stop=early_stop,ins_rmse = ins_rmse)\n"
   ]
  },
  {
   "cell_type": "code",
   "execution_count": 35,
   "metadata": {
    "collapsed": true
   },
   "outputs": [],
   "source": [
    "other_note ='1500mine'\n",
    "result['score']=result[['Score_%d'%i for i in range(1,n_splits+1)]].mean(axis=1)\n",
    "submit = result[['ID','score']]\n",
    "today = datetime.date.today().strftime('%Y-%m-%d')\n",
    "result.to_csv('../../Submission/result/result_%s'%today+other_note+'.csv',index=False)\n",
    "submit.to_csv('../../Submission/submit_%s'%today+other_note+'.csv',header=False,index=False)\n",
    "test_result.to_csv('../../Submission/test/test_result_%s'%today+other_note+'.csv',index=False)\n",
    "imp.to_csv('../../Submission/imp/importance_%s'%today+other_note+'.csv',index=False)"
   ]
  },
  {
   "cell_type": "code",
   "execution_count": null,
   "metadata": {
    "collapsed": true
   },
   "outputs": [],
   "source": [
    "def "
   ]
  },
  {
   "cell_type": "code",
   "execution_count": null,
   "metadata": {
    "collapsed": true
   },
   "outputs": [],
   "source": []
  },
  {
   "cell_type": "code",
   "execution_count": null,
   "metadata": {
    "collapsed": true
   },
   "outputs": [],
   "source": []
  },
  {
   "cell_type": "code",
   "execution_count": null,
   "metadata": {
    "collapsed": true
   },
   "outputs": [],
   "source": []
  },
  {
   "cell_type": "code",
   "execution_count": null,
   "metadata": {
    "collapsed": true
   },
   "outputs": [],
   "source": [
    "#RF & Pearson\n",
    "1000  0.0264600389016"
   ]
  },
  {
   "cell_type": "code",
   "execution_count": null,
   "metadata": {
    "collapsed": true
   },
   "outputs": [],
   "source": [
    "#RF\n",
    "500   0.0261706354963\n",
    "800   0.0261447242005\n",
    "1000  0.025398174979 / 0.026301476152\n",
    "2000  0.0259095708883"
   ]
  },
  {
   "cell_type": "code",
   "execution_count": null,
   "metadata": {
    "collapsed": true
   },
   "outputs": [],
   "source": [
    "#pearson \n",
    "5000   0.0275283319973\n",
    "3000   0.0276070372856\n",
    "2000   0.0273172188618\n",
    "1000   0.0275733258446\n",
    "500    0.0272536288561\n"
   ]
  },
  {
   "cell_type": "code",
   "execution_count": null,
   "metadata": {
    "collapsed": true
   },
   "outputs": [],
   "source": [
    "#pearson bound train\n",
    "1000   0.0281311064524\n",
    "300    0.0266287952817  0.1为界\n",
    "200    0.0276849909632  0.1为界\n"
   ]
  }
 ],
 "metadata": {
  "kernelspec": {
   "display_name": "Python 3",
   "language": "python",
   "name": "python3"
  },
  "language_info": {
   "codemirror_mode": {
    "name": "ipython",
    "version": 3
   },
   "file_extension": ".py",
   "mimetype": "text/x-python",
   "name": "python",
   "nbconvert_exporter": "python",
   "pygments_lexer": "ipython3",
   "version": "3.6.3"
  }
 },
 "nbformat": 4,
 "nbformat_minor": 2
}
