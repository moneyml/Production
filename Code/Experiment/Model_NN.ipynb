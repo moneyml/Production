{
 "cells": [
  {
   "cell_type": "code",
   "execution_count": 1,
   "metadata": {},
   "outputs": [
    {
     "name": "stderr",
     "output_type": "stream",
     "text": [
      "Using TensorFlow backend.\n"
     ]
    }
   ],
   "source": [
    "from keras.models import Sequential\n",
    "from keras.layers.wrappers import TimeDistributed\n",
    "from keras.wrappers.scikit_learn import KerasClassifier\n",
    "from keras.layers import Dense, Dropout, Activation, BatchNormalization\n",
    "from keras.layers.recurrent import LSTM,GRU\n",
    "from keras.preprocessing.sequence import pad_sequences\n",
    "from keras import regularizers\n",
    "# initializes weights with N(0,0.1)\n",
    "from keras import initializers\n",
    "from keras.optimizers import Adam\n",
    "import keras\n",
    "from keras.utils import np_utils\n",
    "from keras.callbacks import Callback\n",
    "\n",
    "import sys\n",
    "#import cPickle\n",
    "import numpy as np\n",
    "import pandas as pd\n",
    "#from nlp_utils import clean_text, pos_tag_text\n",
    "sys.path.append(\"../\")\n",
    "from param_config import config\n",
    "import datetime\n",
    "import model_ml\n",
    "import feat_selection as fs\n"
   ]
  },
  {
   "cell_type": "code",
   "execution_count": 3,
   "metadata": {},
   "outputs": [
    {
     "name": "stdout",
     "output_type": "stream",
     "text": [
      "Load data...\n",
      "Done.\n",
      "Load Features\n",
      "Done\n",
      "Get dummies\n",
      "Delete the dummy variable missing in dfPred\n",
      "TOOL_310_E\n",
      "TOOL_340_2409.0\n",
      "TOOL_344_T\n",
      "TOOL_360_C\n",
      "Done\n",
      "Feature selection\n",
      "RF Done\n",
      "Pearson Done\n"
     ]
    }
   ],
   "source": [
    "\n",
    "\n",
    "\n",
    "###############\n",
    "## Load Data ##\n",
    "###############\n",
    "print(\"Load data...\")\n",
    "\n",
    "dfTrain = pd.read_csv('../'+config.original_train_data_path)\n",
    "dfPred = pd.read_csv('../'+config.original_test_data_path)\n",
    "# number of train/test samples\n",
    "num_train, num_test = dfTrain.shape[0], dfPred.shape[0]\n",
    "\n",
    "print(\"Done.\")\n",
    "\n",
    "\n",
    "###############\n",
    "## Load Features ##\n",
    "###############\n",
    "\n",
    "print(\"Load Features\")\n",
    "Feat_file = ['Feat_cnt_col_nonmissing','Feat_cnt_tool_nonmissing','Feat_pcent_col_nonmissing','Feat_pcent_tool_nonmissing','All_minus','group_var_std','All_minus_single_col','All_minus_byother_col']\n",
    "ex_feat = []\n",
    "for filename in Feat_file:\n",
    "    if filename == 'Feat_minus_non_missing':\n",
    "        tmp = pd.read_csv('../../'+filename+'.csv')\n",
    "    else:\n",
    "        tmp = pd.read_csv('../../Cache/'+filename+'.csv')\n",
    "    tmp.set_index(tmp['ID'],inplace=True,drop=True)\n",
    "    tmp_feat_list = tmp.columns.tolist()\n",
    "    if 'ID' in tmp_feat_list:\n",
    "        tmp_feat_list.remove('ID')\n",
    "    ex_feat += tmp_feat_list\n",
    "    dfTrain = pd.merge(dfTrain,tmp,'left','ID')\n",
    "    dfPred = pd.merge(dfPred,tmp,'left','ID')\n",
    "\n",
    "print(\"Done\")\n",
    "\n",
    "###############\n",
    "## Get dummies ##\n",
    "###############\n",
    "\n",
    "print(\"Get dummies\")\n",
    "predictors = dfTrain.columns.tolist()\n",
    "predictors.remove('ID')\n",
    "predictors.remove('Y')\n",
    "\n",
    "dummies_list = ['TOOL_210','TOOL_220','TOOL_300','TOOL_310','TOOL_311','TOOL_312','TOOL_330','TOOL_340','TOOL_344','TOOL_360','TOOL_440','TOOL_520','TOOL_750']\n",
    "\n",
    "for var in dummies_list:\n",
    "    #if 'TOOL' in var:\n",
    "        #continue\n",
    "    #if dfTrain[var].dtypes=='object':\n",
    "    predictors.remove(var)\n",
    "    tmpTrain = pd.get_dummies(dfTrain[var],prefix=var,dummy_na=True)\n",
    "    tmpPred = pd.get_dummies(dfPred[var],prefix=var,dummy_na=True)\n",
    "    predictors = predictors + tmpTrain.columns.tolist()\n",
    "    dfTrain = pd.concat([dfTrain,tmpTrain],axis=1)\n",
    "    dfPred = pd.concat([dfPred,tmpPred],axis=1)     \n",
    "print(\"Delete the dummy variable missing in dfPred\")\n",
    "for var in predictors:\n",
    "    if var not in dfPred.columns:\n",
    "        print(var)\n",
    "        del dfTrain[var]\n",
    "        predictors.remove(var)\n",
    "    \n",
    "print(\"Done\")\n",
    "\n",
    "\n",
    "###############\n",
    "## Feature Selection ##\n",
    "###############\n",
    "print(\"Feature selection\")\n",
    "predictors_rf = fs.RF_selection(dfTrain,predictors)\n",
    "print('RF Done')\n",
    "predictors_pear = fs.Pearson_selection(dfTrain,predictors)\n",
    "print('Pearson Done')\n",
    "#predictors_mic = fs.MIC_selection(dfTrain,predictors)\n",
    "#print('MIC Done')\n",
    "\n",
    "\n",
    "def FeatList(featSlected,bins=5):\n",
    "    output = [[] for i in range(bins)]\n",
    "    i = 0\n",
    "    while i<=len(featSlected)-1:\n",
    "        for j in range(bins):\n",
    "            try:\n",
    "                output[j].append(featSlected[i+j])\n",
    "            except:\n",
    "                break\n",
    "        i += bins\n",
    "    return output"
   ]
  },
  {
   "cell_type": "code",
   "execution_count": null,
   "metadata": {
    "collapsed": true
   },
   "outputs": [],
   "source": []
  },
  {
   "cell_type": "code",
   "execution_count": null,
   "metadata": {
    "collapsed": true
   },
   "outputs": [],
   "source": []
  },
  {
   "cell_type": "code",
   "execution_count": null,
   "metadata": {
    "collapsed": true
   },
   "outputs": [],
   "source": []
  }
 ],
 "metadata": {
  "kernelspec": {
   "display_name": "Python 3",
   "language": "python",
   "name": "python3"
  },
  "language_info": {
   "codemirror_mode": {
    "name": "ipython",
    "version": 3
   },
   "file_extension": ".py",
   "mimetype": "text/x-python",
   "name": "python",
   "nbconvert_exporter": "python",
   "pygments_lexer": "ipython3",
   "version": "3.6.3"
  }
 },
 "nbformat": 4,
 "nbformat_minor": 2
}
